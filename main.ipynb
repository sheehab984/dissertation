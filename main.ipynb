{
 "cells": [
  {
   "cell_type": "code",
   "execution_count": null,
   "id": "initial_id",
   "metadata": {
    "collapsed": true
   },
   "outputs": [],
   "source": [
    "import pandas as pd"
   ]
  },
  {
   "cell_type": "code",
   "execution_count": null,
   "outputs": [],
   "source": [
    "df = pd.read_csv('data/gbpusd.csv')"
   ],
   "metadata": {
    "collapsed": false
   },
   "id": "83de0e23573192df"
  },
  {
   "cell_type": "code",
   "execution_count": null,
   "outputs": [],
   "source": [
    "# Make different frequency of tick data\n",
    "df['group_id_50'] = df.index // 50\n",
    "df['group_id_100'] = df.index // 100\n",
    "df['group_id_500'] = df.index // 500\n",
    "df['group_id_1000'] = df.index // 1000\n",
    "df['mid_price'] = (df['bid'] + df['ask']) / 2"
   ],
   "metadata": {
    "collapsed": false
   },
   "id": "581b880e884ccbb8"
  },
  {
   "cell_type": "code",
   "execution_count": 14,
   "outputs": [
    {
     "data": {
      "text/plain": "                     \\ttimestamp\\tbid\\task  group_id_50  group_id_100  \\\n0   0\\t20190801 000014937\\t1.21249\\t1.2126            0             0   \n1   1\\t20190801 000015038\\t1.21249\\t1.2126            0             0   \n2  2\\t20190801 000020517\\t1.21248\\t1.21261            0             0   \n3   3\\t20190801 000027213\\t1.21248\\t1.2126            0             0   \n4   4\\t20190801 000031575\\t1.21248\\t1.2126            0             0   \n\n   group_id_500  group_id_1000  \n0             0              0  \n1             0              0  \n2             0              0  \n3             0              0  \n4             0              0  ",
      "text/html": "<div>\n<style scoped>\n    .dataframe tbody tr th:only-of-type {\n        vertical-align: middle;\n    }\n\n    .dataframe tbody tr th {\n        vertical-align: top;\n    }\n\n    .dataframe thead th {\n        text-align: right;\n    }\n</style>\n<table border=\"1\" class=\"dataframe\">\n  <thead>\n    <tr style=\"text-align: right;\">\n      <th></th>\n      <th>\\ttimestamp\\tbid\\task</th>\n      <th>group_id_50</th>\n      <th>group_id_100</th>\n      <th>group_id_500</th>\n      <th>group_id_1000</th>\n    </tr>\n  </thead>\n  <tbody>\n    <tr>\n      <th>0</th>\n      <td>0\\t20190801 000014937\\t1.21249\\t1.2126</td>\n      <td>0</td>\n      <td>0</td>\n      <td>0</td>\n      <td>0</td>\n    </tr>\n    <tr>\n      <th>1</th>\n      <td>1\\t20190801 000015038\\t1.21249\\t1.2126</td>\n      <td>0</td>\n      <td>0</td>\n      <td>0</td>\n      <td>0</td>\n    </tr>\n    <tr>\n      <th>2</th>\n      <td>2\\t20190801 000020517\\t1.21248\\t1.21261</td>\n      <td>0</td>\n      <td>0</td>\n      <td>0</td>\n      <td>0</td>\n    </tr>\n    <tr>\n      <th>3</th>\n      <td>3\\t20190801 000027213\\t1.21248\\t1.2126</td>\n      <td>0</td>\n      <td>0</td>\n      <td>0</td>\n      <td>0</td>\n    </tr>\n    <tr>\n      <th>4</th>\n      <td>4\\t20190801 000031575\\t1.21248\\t1.2126</td>\n      <td>0</td>\n      <td>0</td>\n      <td>0</td>\n      <td>0</td>\n    </tr>\n  </tbody>\n</table>\n</div>"
     },
     "execution_count": 14,
     "metadata": {},
     "output_type": "execute_result"
    }
   ],
   "source": [
    "df.head()"
   ],
   "metadata": {
    "collapsed": false,
    "ExecuteTime": {
     "end_time": "2023-08-07T00:05:10.534599600Z",
     "start_time": "2023-08-07T00:05:10.458681700Z"
    }
   },
   "id": "b9752729f9943bdd"
  }
 ],
 "metadata": {
  "kernelspec": {
   "display_name": "Python 3",
   "language": "python",
   "name": "python3"
  },
  "language_info": {
   "codemirror_mode": {
    "name": "ipython",
    "version": 2
   },
   "file_extension": ".py",
   "mimetype": "text/x-python",
   "name": "python",
   "nbconvert_exporter": "python",
   "pygments_lexer": "ipython2",
   "version": "2.7.6"
  }
 },
 "nbformat": 4,
 "nbformat_minor": 5
}
